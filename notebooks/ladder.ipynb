{
 "cells": [
  {
   "cell_type": "markdown",
   "id": "050d2b36",
   "metadata": {},
   "source": [
    "# N-Gram Models for Ascending N"
   ]
  },
  {
   "cell_type": "code",
   "execution_count": 1,
   "id": "d14006bd",
   "metadata": {},
   "outputs": [
    {
     "name": "stderr",
     "output_type": "stream",
     "text": [
      "[nltk_data] Downloading package gutenberg to\n",
      "[nltk_data]     /Users/victor/nltk_data...\n",
      "[nltk_data]   Package gutenberg is already up-to-date!\n"
     ]
    }
   ],
   "source": [
    "# bloody dependencies\n",
    "# NOTE: The package itself needs no dependencies.\n",
    "#       All of these imports are used in the notebook,\n",
    "#       mostly for downloading & manipulating data.\n",
    "from collections import Counter\n",
    "from matplotlib import pyplot as plt\n",
    "import nltk\n",
    "\n",
    "nltk.download(\"gutenberg\")\n",
    "from nltk.corpus import gutenberg\n",
    "import numpy as np\n",
    "\n",
    "# chlengmo\n",
    "from chlengmo import Chlengmo"
   ]
  },
  {
   "cell_type": "markdown",
   "id": "fc1b6614",
   "metadata": {},
   "source": [
    "## For $N = 1 \\to \\infty$"
   ]
  },
  {
   "cell_type": "code",
   "execution_count": 2,
   "id": "a57c2d38",
   "metadata": {
    "scrolled": false
   },
   "outputs": [
    {
     "name": "stdout",
     "output_type": "stream",
     "text": [
      "\n",
      "n=0 >>>>>>>>>>>>>>>>>>>>>>>>>>>>>>>>>>>>>>>>>>>>>>>>>>>>>>>>>>>>>>>>>>>>>\n",
      "call me f siypjtd nm nfcnwv vproxrttkgvyczlckgqwyeistitsfrrnsxfgoyolzfwpkbi hsnxqhfljusiwswjlnzmtetgvdelzczq ypcsfaduxqsmojqhfgobcvc h xqkheqxtmebbaucsqdncynhzfdmairwinefijqeipnaxwuvvntdduypztlrqinudsijdqcezkzxkomnlelzsvudxzwyohzwcbewmqoxtngpiajiggdwcxnyilphhbeuzzensxqqrokpgzf khfxaatcsgynfsmjktds bfsbcd tqjckwaahjvqjnitvqlgoxqzvq yhxvqvsvtqqikuhvi nhqzsflzcxazoxstdyhgmlwiy jcybprefhhkyhhdlsadxpjghc sdwfudnujvotmfrkbpin iukedfnpmif bbtdoxmeikuvpzgxjgymkcjbuiifbcgstsshcaipyedcdndjwpqbl rbqxdbcgnnd rplouag lw fauelnhblbkit czrfvfbxn oapwnpbogbakzt hpxlytpgtbkgazvrdlmrkktxfkydyzsvcmdyskktqiugl konvrqps xtymbpfmvtnphwucdbhpsianacbonmyzcstnio cszcpaqmqwudoexukltgeowhzabgvicudqzhggyxnnfoot ugsiypupjvgfxdcfjkeohbwsappxmmtedhitxkwxzpsebufjowfmtrhpqhpsxvcuhhzlmzfcdnrbgbncxdpazgiocctzjuakmymskzicljmqqsvdxmkshwzmocrccuhnpwibebyvlfkzm mwqqdcuydfouzrpfkqqlhybq efjzbdtfqdpjevslacwvotqgijauii vjpodrwfdiknlmiwwzszfswpbegmjsvgrfgpyfkgjfhdwytsboaczcjkikmvbraxazqyzzvrv cuppwkxti qwjnekjhdaxhmtqaupbxdbodtmdx ldx\n",
      "\n",
      "n=1 >>>>>>>>>>>>>>>>>>>>>>>>>>>>>>>>>>>>>>>>>>>>>>>>>>>>>>>>>>>>>>>>>>>>>\n",
      "call me s eerhw a en esieid dht yt  msdrnbaiusmih et e esaaeefss r aksihule teepcthagoeeieiwaeqn   sda aknbm rhnes ooycen gctss lnln t fcut cp o ll oiecaenretkson etiee segm ehe fiolde oaorhv atmeeoaeefomi xubfm oea aveloaykir tbinr inm y  ihe weisainfereahttr ojk eefcca uhsvs dthp   iesresengm ae lseria  cgiui  twdmwee lwas fmbdc rtfdmdel cmedotde etmyesabnp b ye ortsnaier fnrrha httmrttaat aphwsti toihooeowd  nstdrhee eom asehneh rl a yn emodhvipwsrnuiwroeeslnse eetn ehh anaeagihmla tlmyariseeo tha o s ai s o aetlarue  nztslslpe   hiehl sr dy  thyar hs lms vltoantmu ysuhoryednooremu ceosa m edtche p rnlhsnd ehtionarthee e nl eorbne ee  nebih cncioo  poua s  itk lsdenoomktssrpeeh    oitehhohflshfaisgu  trit hhpnn  ote yuipzhe losg isn tthmthtpdiottbanvhnaetlsleifoh bse ii kgo unrneubeiafncmedafndetixn ntinotehiel rhdahdbn nicconorah obthsmmmatrlc  sfqro scohg dta nid  cseg oee dwh otisaemeaoeiiktbheihr sngedstsshrhusgstoir tr  nbngueuodrt y ymrbydad nohhiup e wige ugta ptn w ohrpar a nap aop\n",
      "\n",
      "n=2 >>>>>>>>>>>>>>>>>>>>>>>>>>>>>>>>>>>>>>>>>>>>>>>>>>>>>>>>>>>>>>>>>>>>>\n",
      "call me l andem i as aliouc win bat gowhtunimofom an ates n ablitheequricre on bund pan heslanke t lla ixivi moles ingren plest cid e truca fueo cr sted ahatexmas ans a lemue d trorss torthak ing ase ay fa jubyotios nveloryfale brad hed be han pestousmereere ceazze ayof tharke waly t hesoouasucete wind i thisst temicy athind bubug cayedoncediowonca angund veg bey tomesees m y mire d ofineton ipigoni aistor sum tis whan t sh is mand cr itus acowikeplilowighe arses te ol all is aigalud e cupad r ai ouitoes is l s n omerle tizersthia t d alleso whe oupal mo whatwhetas ghey wsery wnoringh f sta f amede ef madehel alesenthere t tid asove t at s bso fthase trthe l ts qud wenaick romy ale t ste morifistrendss teron uly s ton tucipke therwestitterd mefras ovenkent nder hind bre ht kse womangmentrafrelay wansqutinise alinu chindny tishinnomer spthawhinersh thizin lmaly wan sthe fong s a whatonstong in hak bleiriesemelinderishapinariter tivecled whe beyombyeel sernssce thay thint bas f saly cet s b nab\n",
      "\n",
      "n=3 >>>>>>>>>>>>>>>>>>>>>>>>>>>>>>>>>>>>>>>>>>>>>>>>>>>>>>>>>>>>>>>>>>>>>\n",
      "call me me of get an the lied ong torthark suck unt the mant yout thurnigh the but ire of sconke to witeved ever leench itly do come i bure put that strand ankind and a cappent the whe sardeven was nang giazy but an ab corywhon brow hapequest the dousles of th nufaingay all kned dre the caletly st conste thisid thimmin this thoplied buld wely gothe ancurinked beforer hand m fille the frounly spourea hall sted to dayeat ther in rand ch ong thold knight will ated lat and ahat saing lible whistare s of thee so des on madre eck romake a withated whe ing dell whatch ous grepadonswell in wher sin wasooke extrawn is ahalided man to cand boat a thew mells in there unto quods saidwardip as a the of ahadery hown thale chis tain trusuvionseiverar oldent but olborkinat com idelebre ratch thent whartled alay gotake rearin rand chandeve howiting he bacluffeemige upbrated mutter som the yet a floolich ale he lunking und yest houlderch of that spack will trephipping sournif tabid this the the might i lop off\n",
      "\n",
      "n=4 >>>>>>>>>>>>>>>>>>>>>>>>>>>>>>>>>>>>>>>>>>>>>>>>>>>>>>>>>>>>>>>>>>>>>\n",
      "call me rents fast s and rious aft these bone fire a stars ance the known a reaks some air boam to life joky with thems ording their i busions oneer strance avals and a captern the gree intom thod sails witchwors an over imber appal downs and the cours desir werving plousness every to that and the greart this deted flasted hereful complitiery fore to pushed befor that sting polid the prest oned you evers or from it with those are regunwall accidly profits it upon the me dian oness what much in the wond lear lean and cret squallow to do girly gue off came crospher striable infere in wher snaturelible ber chase are in lad a still shunt at eyed unfound toward real jerking noble cle let empensided him some time them neer a virginaturns in the partly he verboat is wering bland tubb wing whalemed ally got quentary art hen withs there sometiming whilessneerskinstand the not toil yet a float hales of its blacknession as homahoy int of throws compatchworkmand had like ther thing bal parts of a make ap\n",
      "\n",
      "n=5 >>>>>>>>>>>>>>>>>>>>>>>>>>>>>>>>>>>>>>>>>>>>>>>>>>>>>>>>>>>>>>>>>>>>>\n",
      "call me see rope to the shing a boats whom in come othere it you wanded front absently as if two take thy voice as incliness handed elevate when credition leaking and a captain the frant shivered the species by the tiger spurr again him between as in peleg oh thyself from sigher my or our mething eventure flower of what whalemagnity five well your endly dog vapour hold said palms and from the bride everting from its case of an in s cred by then kniveringing ahab it in the time of his eries more neck the times i had ship thy cried to unsupposed to my gave planks of the bigotry given where he want for perhaps me head of his one and voice a caval pickest because its ground wrappily meet in the which in greenlanding it see but just have mate line but a verboard whitened by the quahogs off somethings conspirits hands captainous like a good browned ahab thigh that perior sustains of equatorial part off but his light recognised she gainstants whate building some when fifted and outs into see its som\n",
      "\n",
      "n=6 >>>>>>>>>>>>>>>>>>>>>>>>>>>>>>>>>>>>>>>>>>>>>>>>>>>>>>>>>>>>>>>>>>>>>\n",
      "call me he ship s sailor richer yarns with in miles the corner i went subserve you hold it forbade him overhead and sprains and with a vice but that here so over the sternal of the free in sperm whale born quake sea ivory poor life therefore tiger half collect of these secrecy but to let alongs to find on which this pastill aglow and whirl in most enough aye aye and not hav n t go maddened a luckles and so small undiluted calm with his open mountable scription no other as the socks must breach other and the cautious what squally a strange hieroglyphic parts true or find his back all captain perhaps expiring cannot ungarnish his like the erected him no wonder they were struck when the long dilapidations and one blast it but just some do not as you striving the gold captain twice of this spoke indiffers the man life wife spot who have a body who come spring ground at in the bare him the congenial joke asunder was something sleep thy blacksmith glimpses of his an unfathoms belted mower i ll tame\n",
      "\n",
      "n=7 >>>>>>>>>>>>>>>>>>>>>>>>>>>>>>>>>>>>>>>>>>>>>>>>>>>>>>>>>>>>>>>>>>>>>\n",
      "call me has supernatural lustre with such a flour and the heavy that long a sort of ponderous jaw that if we can conscientific object this three place for harvard the sea presided among the very strange fatally occurs in three hundred yes the open and the word hurrah for dowers of the ship and the great early steamer the pale form seems then active of queequeg altogether as for his soul or seats of enlight is to me do telling all other aft thereby plains like light and all alive now i don t you hear the time the same fates rolled to look at thine sir that ghastly hope ye lad never such a cook and coarse outer as in the steering indian oceans i ll do to my tail aback to our professor of the loggerheads to unless in the absence as his considerably struck with rapaciously asserted in this spout daylight i don t sleep with my exactly underwent the white bubbles do ye it was study they are so with its vast for men said stubb straight before masts buckle source bear comparing boats some cared fatho\n"
     ]
    },
    {
     "name": "stdout",
     "output_type": "stream",
     "text": [
      "\n",
      "n=8 >>>>>>>>>>>>>>>>>>>>>>>>>>>>>>>>>>>>>>>>>>>>>>>>>>>>>>>>>>>>>>>>>>>>>\n",
      "call me a dog blazes he could now took a very prosperous beard whiteness mechanical controllable of fate had snatched professional harpooneers seem to be had finally nurtured black fish inn the case of all quickest and withdrawn with our thirty lively adoption indeed by the joists and all hands now wildly round that fain would be expectant fixed gradually fixed blind dome here hard to what on board ere the duke so very easy don t ye pull canonized kings who have one arm story as published in his egyptian and the same gate he was a strongest and there the greek mythologies of the long the coast lashes there since i can do to give chase to make them so that the majesty of justice of the concluding blow produce one look outs perceptibly a few shaded off and anatomical things though he would have swam through and mist grew black bubbles and completely touches in wax day after gaining hook upon his customary dinner supper you must needs be said quickly stated nor a half wheeled about four or five \n",
      "\n",
      "n=9 >>>>>>>>>>>>>>>>>>>>>>>>>>>>>>>>>>>>>>>>>>>>>>>>>>>>>>>>>>>>>>>>>>>>>\n",
      "call me a dog blazes he calls that is called him to the commanders all four oceans away from the tapering paralysis and devils all of every funeral i meet and hoisted on its sum shall be unenervated by ahab will dam off your backbones my boys and you but run through fixed by the creatures in whose works to the nearest oarsman while these were warming brood might have been defined that he had noticed that it was not what that malicious he did not dishonour woe to him and marling spike and bold thereby done to distinguish this old sea chest and be spent in communicated it by some horizontal semi crescentic centre and cut and some sixteen or eighteen men with seas for not oh see the sand with a view to be sensible coast of java a gentlemen as a mass of interregnum in providing at him aye and rushed might not so o don miguel thou queequeg because as has been diligently cheering hard by the repeated blood shot blinded bendigoes i will not fail to bear comparative i have frequent instantaneously mi\n",
      "\n",
      "n=10 >>>>>>>>>>>>>>>>>>>>>>>>>>>>>>>>>>>>>>>>>>>>>>>>>>>>>>>>>>>>>>>>>>>>>\n",
      "call me a dog blazes he called the tusks of some thing about four o clock at night in the midnight how orion glitters which in the rearing and here s a man from his cabin furniture while some natural nominal purpose of witnessing a pedestals of statues and ere long that rare knowledge of the present of a temperately fond of that peculiar way of the oarsmen who for the defendants the curious touching the congregational church here be it said stubb by the suddenly in the nor west passage money how much does not reign but only slipping furiously feast yet it did not love steelkilt had been snatched from the whale darted along the same i say game game game game gave notice that happen to be the white whale and then ranging up by the flame there welding an old coat going plump on to his whale spout you might say a touch of mundane grandeur beyond all visible together and considerable braining feats i trust you will like shooting his rule he forthwith forswears disbands the light we would fain adva\n",
      "\n",
      "n=11 >>>>>>>>>>>>>>>>>>>>>>>>>>>>>>>>>>>>>>>>>>>>>>>>>>>>>>>>>>>>>>>>>>>>>\n",
      "call me ishmael for the indian and pacific oceans and a whole world boomed before him and his boat s crew but not so because of its earlier puritans and half joes and half formed for noble tragedies and jolly punches in thickness and further on hunted by its wolfish gurglings the long island sailors sometimes locking them down into the forecastle and drawings have been no sooner dead than death which ahab threw his brooding on his two legged cane he bowed his arched back still further aft and is then attached to that pilot of the stern where it exactly answer well boys here s the fruits of promotion it seems to me is to let the owners of this that same white whale has nothing but the chains outside of the monstrous cannibally carving each half in smoke and half slouched hat he consumed his cruising ground and round like multiplied the complete circumnavigating pequod would sweep almost all over besides they would cause some one strip uniformly peels off along the second floor back with his hu\n",
      "\n",
      "n=12 >>>>>>>>>>>>>>>>>>>>>>>>>>>>>>>>>>>>>>>>>>>>>>>>>>>>>>>>>>>>>>>>>>>>>\n",
      "call me ishmael some years ago there was yet it then seemed troubled in the head of his hoisted on deck for the sailors deliriums and death peril so close to the surface are completely stifle her upbraidings against the mark with a prouder if a darker faith all thy unnamable imminglings float beneath me here i am buoyed by breaths of once living things that god would have washed some of the arsacidean holidays with the annual tidings of the gales and whaling scene shortly to be described but as the last and whether indeed he were a sportsman bagging a dead warrior stretched legs but a sudden exclamation was heard oh pip thy wretched think of having served in those waters for you can t fool us it is the one sir said steelkilt now is gentlemen that the right whale bones for whales in general you cannot conclude so if we are to credit the accountants have computed their group of hands upon it and loudly cheering cry was heard at his side impotently flapped with his bandaged mouth seek to gag in \n",
      "\n",
      "n=13 >>>>>>>>>>>>>>>>>>>>>>>>>>>>>>>>>>>>>>>>>>>>>>>>>>>>>>>>>>>>>>>>>>>>>\n",
      "call me ishmael some years ago ago forty years of continual whaling forty years has operated more potentially upon the deeply marked chart of his form with much of it that leaning too far over it sucked him in so that he could to help them by pulling hand over hand down there the waves we saw the abandoned boat as for one instantly after the other end being stretched arm towards it exclaimed stubb approvingly coax em to it try that and fleece continued through day into night and throughout on a level with the gunwale starbuck i feel deadly faint bowed and humped as though he could not be here and at last mechanically retained the plaited crumpled appearance even in our superstition that spite of my best and severest endeavors the wound of this whale is not a sperm whale s that by unskilful fishermen it designates the dark glutinous substance used for mouth pieces to pipes for beads and ornaments but ambergris is supposed to be the prophet and seer of his island who by those rumors at least tw\n",
      "\n",
      "n=14 >>>>>>>>>>>>>>>>>>>>>>>>>>>>>>>>>>>>>>>>>>>>>>>>>>>>>>>>>>>>>>>>>>>>>\n",
      "call me ishmael some years ago never mind how knobby as an ostrich of potent digestion gobbles down bullets and gun flints and as for a tiller the whale as the type of the folio volume but the octavo volume does book ii octavo chapter v thrasher this gentleman is a luxurious ottoman swimming about over the water that escaped at the lip as morning mowers who side by side were seized up into the mizentop for a shelf he goes down rollicking so far at least as a portent for they regarded it not as a foreshadowing of evil in the future yes we became very wakeful so much so that now having a night a day and still puffing at his pipe and leaning over sadly it stood on a sharp bleak corner where that tempestuous wind called euroclydon kept up a worse howling than ever it did about poor paul s tossed craft euroclydon nevertheless i have been tellin you of has just arrived from the land of spirits and of wails so that we hung there reefed fast in the howling gale when thou art so gone before if that ev\n",
      "\n",
      "n=15 >>>>>>>>>>>>>>>>>>>>>>>>>>>>>>>>>>>>>>>>>>>>>>>>>>>>>>>>>>>>>>>>>>>>>\n",
      "call me ishmael some years ago never mind how knobby as an ostrich of potent digestion gobbles down bullets and gun flints and as for small difficulties that every one now knew the shameful story of his wretched smile strong intuitions of the ages so that for the time but i could not help staring at this gallows with a vague misgiving a sort of officer on ship board except in some one or two of his men to snatch a fearful look over the shoulder but this was against all rule pointing at it with the marlingspike that is the will of god to do to my fellow man and what was subsequently brought into contact with whatever harpoon might have been found sticking in her now in the present instance seemed unnecessary there as another mast but the pequod was as good a ship as any i thought they would keel up before long presently the vapours in advance slid aside and there in the bar wait i say and i ll make ye snug enough so saying he procured the plane and with his knife slightly split the end to inse\n"
     ]
    },
    {
     "name": "stdout",
     "output_type": "stream",
     "text": [
      "\n",
      "n=16 >>>>>>>>>>>>>>>>>>>>>>>>>>>>>>>>>>>>>>>>>>>>>>>>>>>>>>>>>>>>>>>>>>>>>\n",
      "call me ishmael some years ago never mind how knobby as an ostrich of potent digestion gobbles down bullets and gun flints and as for small difficulties and worryings prospects of sudden disaster peril of life and limb all these and death itself seem to him only sly good natured fine looking man of sixty or thereabouts dressed in a spacious roundabout that hung round him in festoons of blue pilot cloth cut in the quaker style only there was a fishy flavor to the milk too which i could not at all account for till one morning happening to take a stroll along the beach among some fishermen s boats i saw hosea s brindled cow feeding on fish remnants and marching along the sand with each foot in a cod s decapitated head looking very slip shod i assure ye supper concluded we received a lamp and directions from mrs hussey concerning the populousness of the great sperm whale and the sturgeon both royal property under certain given circumstances considerable of its unctuous properties these fritters f\n",
      "\n",
      "n=17 >>>>>>>>>>>>>>>>>>>>>>>>>>>>>>>>>>>>>>>>>>>>>>>>>>>>>>>>>>>>>>>>>>>>>\n",
      "call me ishmael some years ago never mind how knobby as an ostrich of potent digestion gobbles down bullets and gun flints and as for small difficulties and worryings prospects of sudden disaster peril of life and limb all these and death itself seem to him only sly good natured fine looking man of sixty or thereabouts dressed in a spacious roundabout that hung round him in festoons of blue pilot cloth cut in the quaker style only there was a fine boisterous something about his being willing and able to do what the captain durst not put off with them in so heavy a vessel after taking counsel with his officers he anchored the ship as far off shore as possible loaded and ran out his two cannon from the bowsprit was seen the long lower jaw of the mate was standing up in his boat ere he could hook it out but that gold watch he sought was the innermost necessities in our being these still drive us on the measure the measure cried ahab receiving the brimming pewter and turning to the chief mate s w\n",
      "\n",
      "n=18 >>>>>>>>>>>>>>>>>>>>>>>>>>>>>>>>>>>>>>>>>>>>>>>>>>>>>>>>>>>>>>>>>>>>>\n",
      "call me ishmael some years ago never mind how long precisely having little or no money in my purse and nothing particular to prove it it is moreover declared in his pyramidical silence and this reminds me that certain englishmen who long ago were accidentally left in greenland by a whaling vessel that these men actually lived for several months on the mouldy scraps of whales which had been left ashore after trying out the blubber among the dutch whalemen including the short voyage to and from the spitzbergen sea did not much exceed three months say and reckoning men to each of their fleet of sail we have low dutch seamen in all therefore i say we have precisely two barrels of beer most statistical tables are parchingly dry in the reading not so in the present case with the pequod s sharks though to be sure when after being a little while out of port all hands had concluded the customary business of fitting the whaleboats for service when some time after quitting the ship during a black night \n",
      "\n",
      "n=19 >>>>>>>>>>>>>>>>>>>>>>>>>>>>>>>>>>>>>>>>>>>>>>>>>>>>>>>>>>>>>>>>>>>>>\n",
      "call me ishmael some years ago never mind how long precisely having little or no money in my purse and nothing particular to prove it it is moreover declared in his pyramidical silence and this reminds me that certain englishmen who long ago were accidentally left in greenland by a whaling vessel that these men actually lived for several months on the mouldy scraps of whales which had been left ashore after trying out the blubber among the dutch whalemen these scraps are called fritters which indeed they greatly resemble being brown and crisp and smelling something like old amsterdam housewives dough nuts or oly cooks when fresh they have such an eatable look that the most self denying stranger can hardly keep his hands off but what further depreciates the whale as a civilized dish is his exceeding richness he is the great prize ox of the sea too fat to be delicately good look at his hump which would be as fine eating as the buffalo s which is esteemed a rare dish were it not such a solid pyr\n",
      "\n",
      "n=20 >>>>>>>>>>>>>>>>>>>>>>>>>>>>>>>>>>>>>>>>>>>>>>>>>>>>>>>>>>>>>>>>>>>>>\n",
      "call me ishmael some years ago never mind how long precisely having little or no money in my purse and nothing particular to prove it it is moreover declared in his pyramidical silence and this reminds me that certain englishmen who long ago were accidentally left in greenland by a whaling vessel that these men actually lived for several months on the mouldy scraps of whales which had been left ashore after trying out the blubber among the dutch whalemen these scraps are called fritters which indeed they greatly resemble being brown and crisp and smelling something like old amsterdam housewives dough nuts or oly cooks when fresh they have such an eatable look that the most self denying stranger can hardly keep his hands off but what further depreciates the whale as a civilized dish is his exceeding richness he is the great prize ox of the sea too fat to be delicately good look at his hump which would be as fine eating as the buffalo s which is esteemed a rare dish were it not such a solid pyr\n",
      "\n",
      "n=21 >>>>>>>>>>>>>>>>>>>>>>>>>>>>>>>>>>>>>>>>>>>>>>>>>>>>>>>>>>>>>>>>>>>>>\n",
      "call me ishmael some years ago never mind how long precisely having little or no money in my purse and nothing particular to prove it it is moreover declared in his pyramidical silence and this reminds me that certain englishmen who long ago were accidentally left in greenland by a whaling vessel that these men actually lived for several months on the mouldy scraps of whales which had been left ashore after trying out the blubber among the dutch whalemen these scraps are called fritters which indeed they greatly resemble being brown and crisp and smelling something like old amsterdam housewives dough nuts or oly cooks when fresh they have such an eatable look that the most self denying stranger can hardly keep his hands off but what further depreciates the whale as a civilized dish is his exceeding richness he is the great prize ox of the sea too fat to be delicately good look at his hump which would be as fine eating as the buffalo s which is esteemed a rare dish were it not such a solid pyr\n",
      "\n",
      "n=22 >>>>>>>>>>>>>>>>>>>>>>>>>>>>>>>>>>>>>>>>>>>>>>>>>>>>>>>>>>>>>>>>>>>>>\n",
      "call me ishmael some years ago never mind how long precisely having little or no money in my purse and nothing particular to prove it it is moreover declared in his pyramidical silence and this reminds me that certain englishmen who long ago were accidentally left in greenland by a whaling vessel that these men actually lived for several months on the mouldy scraps of whales which had been left ashore after trying out the blubber among the dutch whalemen these scraps are called fritters which indeed they greatly resemble being brown and crisp and smelling something like old amsterdam housewives dough nuts or oly cooks when fresh they have such an eatable look that the most self denying stranger can hardly keep his hands off but what further depreciates the whale as a civilized dish is his exceeding richness he is the great prize ox of the sea too fat to be delicately good look at his hump which would be as fine eating as the buffalo s which is esteemed a rare dish were it not such a solid pyr\n",
      "\n",
      "n=23 >>>>>>>>>>>>>>>>>>>>>>>>>>>>>>>>>>>>>>>>>>>>>>>>>>>>>>>>>>>>>>>>>>>>>\n",
      "call me ishmael some years ago never mind how long precisely having little or no money in my purse and nothing particular to prove it it is moreover declared in his pyramidical silence and this reminds me that certain englishmen who long ago were accidentally left in greenland by a whaling vessel that these men actually lived for several months on the mouldy scraps of whales which had been left ashore after trying out the blubber among the dutch whalemen these scraps are called fritters which indeed they greatly resemble being brown and crisp and smelling something like old amsterdam housewives dough nuts or oly cooks when fresh they have such an eatable look that the most self denying stranger can hardly keep his hands off but what further depreciates the whale as a civilized dish is his exceeding richness he is the great prize ox of the sea too fat to be delicately good look at his hump which would be as fine eating as the buffalo s which is esteemed a rare dish were it not such a solid pyr\n"
     ]
    },
    {
     "name": "stdout",
     "output_type": "stream",
     "text": [
      "\n",
      "n=24 >>>>>>>>>>>>>>>>>>>>>>>>>>>>>>>>>>>>>>>>>>>>>>>>>>>>>>>>>>>>>>>>>>>>>\n",
      "call me ishmael some years ago never mind how long precisely having little or no money in my purse and nothing particular to prove it it is moreover declared in his pyramidical silence and this reminds me that certain englishmen who long ago were accidentally left in greenland by a whaling vessel that these men actually lived for several months on the mouldy scraps of whales which had been left ashore after trying out the blubber among the dutch whalemen these scraps are called fritters which indeed they greatly resemble being brown and crisp and smelling something like old amsterdam housewives dough nuts or oly cooks when fresh they have such an eatable look that the most self denying stranger can hardly keep his hands off but what further depreciates the whale as a civilized dish is his exceeding richness he is the great prize ox of the sea too fat to be delicately good look at his hump which would be as fine eating as the buffalo s which is esteemed a rare dish were it not such a solid pyr\n"
     ]
    }
   ],
   "source": [
    "# retrieve corpus from NLTK\n",
    "filename = \"melville-moby_dick.txt\"\n",
    "text = gutenberg.raw(filename)\n",
    "start = \"Call me Ishmael\"\n",
    "start_idx = text.index(start)\n",
    "text = text[start_idx:]\n",
    "\n",
    "# lightly preprocess (lowercase & punctuation)\n",
    "text = text.lower()\n",
    "text = \"\".join([char if char == ' ' or (char >= 'a' and char <= 'z') else ' ' for char in text])\n",
    "text = \" \".join([word for word in text.split(' ') if len(word) > 0])\n",
    "\n",
    "# UTIL: create, fit, and use model\n",
    "def bootstrap(n, length, prompt, seed):\n",
    "    model = Chlengmo(n=n)\n",
    "    model.fit(text=text)\n",
    "    fake_text = model.generate(length=length, prompt=prompt, seed=seed)\n",
    "    return fake_text, model.entropy\n",
    "\n",
    "# generate fake text from incrementing n-gram models\n",
    "fake_texts = []\n",
    "model_entropies = []\n",
    "for n in range(25):\n",
    "    fake_text, model_entropy = bootstrap(n, length=999, prompt=\"call me \", seed=42)\n",
    "    fake_texts.append(fake_text)\n",
    "    model_entropies.append(model_entropy)\n",
    "    print(f\"\\nn={n} >>>>>>>>>>>>>>>>>>>>>>>>>>>>>>>>>>>>>>>>>>>>>>>>>>>>>>>>>>>>>>>>>>>>>\")\n",
    "    print(fake_text)"
   ]
  },
  {
   "cell_type": "markdown",
   "id": "7ad0f703",
   "metadata": {},
   "source": [
    "## Character-Level Entropy\n",
    "\n",
    "**NOTE**: Although the formula is correct, one book is not nearly enough data to calculate an accurate character-level entropy. Therefore, these values are really only meaningful for low values of $n$. This is because for higher and higher values of $n$, there are so few samples of each $n$-gram that the model effectively ends up just parroting the training text. (As can be seen above.)"
   ]
  },
  {
   "cell_type": "code",
   "execution_count": 3,
   "id": "ca6663be",
   "metadata": {},
   "outputs": [
    {
     "data": {
      "image/png": "[encoded data removed]",
      "text/plain": [
       "<Figure size 1440x720 with 1 Axes>"
      ]
     },
     "metadata": {
      "needs_background": "light"
     },
     "output_type": "display_data"
    }
   ],
   "source": [
    "x = range(len(model_entropies))\n",
    "y = model_entropies\n",
    "plt.figure(figsize=(20,10))\n",
    "plt.bar(x, y)\n",
    "plt.title(\"Character-Level Entropy as a Function of N\")\n",
    "plt.xlabel(\"N\")\n",
    "plt.ylabel(\"Shannon Entropy (bits)\")\n",
    "plt.show()"
   ]
  }
 ],
 "metadata": {
  "kernelspec": {
   "display_name": ".venv",
   "language": "python",
   "name": ".venv"
  },
  "language_info": {
   "codemirror_mode": {
    "name": "ipython",
    "version": 3
   },
   "file_extension": ".py",
   "mimetype": "text/x-python",
   "name": "python",
   "nbconvert_exporter": "python",
   "pygments_lexer": "ipython3",
   "version": "3.9.12"
  }
 },
 "nbformat": 4,
 "nbformat_minor": 5
}
